{
 "cells": [
  {
   "cell_type": "code",
   "execution_count": 2,
   "id": "dd71b054",
   "metadata": {},
   "outputs": [],
   "source": [
    "import pandas as pd\n",
    "import numpy as np\n",
    "import matplotlib.pyplot as plt\n",
    "import seaborn as sns\n",
    "import os\n",
    "from scipy import stats\n",
    "from sklearn.model_selection import train_test_split\n",
    "\n",
    "from sklearn.impute import SimpleImputer\n",
    "\n",
    "import warnings\n",
    "warnings.filterwarnings(\"ignore\")\n",
    "from importlib import reload\n",
    "\n",
    "import wrangle as w"
   ]
  },
  {
   "cell_type": "code",
   "execution_count": 3,
   "id": "5a25940f",
   "metadata": {},
   "outputs": [],
   "source": [
    "zillow = w.acquire_zillow_data(new=True)"
   ]
  },
  {
   "cell_type": "code",
   "execution_count": 8,
   "id": "24800dd9",
   "metadata": {},
   "outputs": [
    {
     "data": {
      "text/plain": [
       "263"
      ]
     },
     "execution_count": 8,
     "metadata": {},
     "output_type": "execute_result"
    }
   ],
   "source": [
    "zillow.yearbuilt.isnull().sum()"
   ]
  },
  {
   "cell_type": "code",
   "execution_count": 4,
   "id": "74be07a7",
   "metadata": {},
   "outputs": [
    {
     "data": {
      "text/plain": [
       "(77380, 68)"
      ]
     },
     "execution_count": 4,
     "metadata": {},
     "output_type": "execute_result"
    }
   ],
   "source": [
    "zillow.shape"
   ]
  },
  {
   "cell_type": "code",
   "execution_count": 7,
   "id": "9a544602",
   "metadata": {},
   "outputs": [
    {
     "ename": "ValueError",
     "evalue": "The truth value of a Series is ambiguous. Use a.empty, a.bool(), a.item(), a.any() or a.all().",
     "output_type": "error",
     "traceback": [
      "\u001b[0;31m---------------------------------------------------------------------------\u001b[0m",
      "\u001b[0;31mValueError\u001b[0m                                Traceback (most recent call last)",
      "Input \u001b[0;32mIn [7]\u001b[0m, in \u001b[0;36m<cell line: 1>\u001b[0;34m()\u001b[0m\n\u001b[0;32m----> 1\u001b[0m \u001b[38;5;28;01mif\u001b[39;00m zillow\u001b[38;5;241m.\u001b[39myearbuilt\u001b[38;5;241m.\u001b[39misnull() \u001b[38;5;241m==\u001b[39m \u001b[38;5;28;01mFalse\u001b[39;00m:\n\u001b[1;32m      2\u001b[0m     zillow[\u001b[38;5;124m\"\u001b[39m\u001b[38;5;124myearbuilt\u001b[39m\u001b[38;5;124m\"\u001b[39m] \u001b[38;5;241m=\u001b[39m zillow[\u001b[38;5;124m\"\u001b[39m\u001b[38;5;124myearbuilt\u001b[39m\u001b[38;5;124m\"\u001b[39m]\u001b[38;5;241m.\u001b[39mastype(\u001b[38;5;28mint\u001b[39m)\n\u001b[1;32m      3\u001b[0m     zillow[\u001b[38;5;124m\"\u001b[39m\u001b[38;5;124m2017_age\u001b[39m\u001b[38;5;124m\"\u001b[39m] \u001b[38;5;241m=\u001b[39m \u001b[38;5;241m2017\u001b[39m \u001b[38;5;241m-\u001b[39m zillow\u001b[38;5;241m.\u001b[39myearbuilt\n",
      "File \u001b[0;32m/usr/local/anaconda3/lib/python3.9/site-packages/pandas/core/generic.py:1527\u001b[0m, in \u001b[0;36mNDFrame.__nonzero__\u001b[0;34m(self)\u001b[0m\n\u001b[1;32m   1525\u001b[0m \u001b[38;5;129m@final\u001b[39m\n\u001b[1;32m   1526\u001b[0m \u001b[38;5;28;01mdef\u001b[39;00m \u001b[38;5;21m__nonzero__\u001b[39m(\u001b[38;5;28mself\u001b[39m):\n\u001b[0;32m-> 1527\u001b[0m     \u001b[38;5;28;01mraise\u001b[39;00m \u001b[38;5;167;01mValueError\u001b[39;00m(\n\u001b[1;32m   1528\u001b[0m         \u001b[38;5;124mf\u001b[39m\u001b[38;5;124m\"\u001b[39m\u001b[38;5;124mThe truth value of a \u001b[39m\u001b[38;5;132;01m{\u001b[39;00m\u001b[38;5;28mtype\u001b[39m(\u001b[38;5;28mself\u001b[39m)\u001b[38;5;241m.\u001b[39m\u001b[38;5;18m__name__\u001b[39m\u001b[38;5;132;01m}\u001b[39;00m\u001b[38;5;124m is ambiguous. \u001b[39m\u001b[38;5;124m\"\u001b[39m\n\u001b[1;32m   1529\u001b[0m         \u001b[38;5;124m\"\u001b[39m\u001b[38;5;124mUse a.empty, a.bool(), a.item(), a.any() or a.all().\u001b[39m\u001b[38;5;124m\"\u001b[39m\n\u001b[1;32m   1530\u001b[0m     )\n",
      "\u001b[0;31mValueError\u001b[0m: The truth value of a Series is ambiguous. Use a.empty, a.bool(), a.item(), a.any() or a.all()."
     ]
    }
   ],
   "source": [
    "if zillow.yearbuilt.isnull() == False:\n",
    "    zillow[\"yearbuilt\"] = zillow[\"yearbuilt\"].astype(int)\n",
    "    zillow[\"2017_age\"] = 2017 - zillow.yearbuilt\n",
    "    zillow[\"2017_age\"] = zillow[\"2017_age\"].astype(int)\n",
    "\n",
    "else:\n",
    "    zillow[\"2017_age\"] = 0\n",
    "    zillow[\"2017_age\"] = zillow[\"2017_age\"].astype(int)\n",
    "\n",
    "#df.drop(columns='yearbuilt', inplace=True)"
   ]
  },
  {
   "cell_type": "code",
   "execution_count": 5,
   "id": "35af3bc7",
   "metadata": {},
   "outputs": [
    {
     "ename": "ValueError",
     "evalue": "The truth value of a Series is ambiguous. Use a.empty, a.bool(), a.item(), a.any() or a.all().",
     "output_type": "error",
     "traceback": [
      "\u001b[0;31m---------------------------------------------------------------------------\u001b[0m",
      "\u001b[0;31mValueError\u001b[0m                                Traceback (most recent call last)",
      "Input \u001b[0;32mIn [5]\u001b[0m, in \u001b[0;36m<cell line: 1>\u001b[0;34m()\u001b[0m\n\u001b[0;32m----> 1\u001b[0m clean_zillow \u001b[38;5;241m=\u001b[39m \u001b[43mw\u001b[49m\u001b[38;5;241;43m.\u001b[39;49m\u001b[43mclean_zillow\u001b[49m\u001b[43m(\u001b[49m\u001b[43mzillow\u001b[49m\u001b[43m)\u001b[49m\n",
      "File \u001b[0;32m~/codeup-data-science/clustering-exercises/wrangle.py:127\u001b[0m, in \u001b[0;36mclean_zillow\u001b[0;34m(df)\u001b[0m\n\u001b[1;32m    125\u001b[0m df \u001b[38;5;241m=\u001b[39m drop_id_columns(df)\n\u001b[1;32m    126\u001b[0m df \u001b[38;5;241m=\u001b[39m give_county_names(df)\n\u001b[0;32m--> 127\u001b[0m df \u001b[38;5;241m=\u001b[39m \u001b[43mcreate_age\u001b[49m\u001b[43m(\u001b[49m\u001b[43mdf\u001b[49m\u001b[43m)\u001b[49m\n\u001b[1;32m    128\u001b[0m df \u001b[38;5;241m=\u001b[39m handle_missing_values(df)\n\u001b[1;32m    129\u001b[0m \u001b[38;5;28;01mreturn\u001b[39;00m df\n",
      "File \u001b[0;32m~/codeup-data-science/clustering-exercises/wrangle.py:103\u001b[0m, in \u001b[0;36mcreate_age\u001b[0;34m(df)\u001b[0m\n\u001b[1;32m    102\u001b[0m \u001b[38;5;28;01mdef\u001b[39;00m \u001b[38;5;21mcreate_age\u001b[39m(df):\n\u001b[0;32m--> 103\u001b[0m     \u001b[38;5;28;01mif\u001b[39;00m df[\u001b[38;5;124m\"\u001b[39m\u001b[38;5;124myearbuilt\u001b[39m\u001b[38;5;124m\"\u001b[39m]\u001b[38;5;241m.\u001b[39misnull() \u001b[38;5;241m==\u001b[39m \u001b[38;5;28;01mFalse\u001b[39;00m:\n\u001b[1;32m    104\u001b[0m         df[\u001b[38;5;124m\"\u001b[39m\u001b[38;5;124myearbuilt\u001b[39m\u001b[38;5;124m\"\u001b[39m] \u001b[38;5;241m=\u001b[39m df[\u001b[38;5;124m\"\u001b[39m\u001b[38;5;124myearbuilt\u001b[39m\u001b[38;5;124m\"\u001b[39m]\u001b[38;5;241m.\u001b[39mastype(\u001b[38;5;28mint\u001b[39m)\n\u001b[1;32m    105\u001b[0m         df[\u001b[38;5;124m\"\u001b[39m\u001b[38;5;124m2017_age\u001b[39m\u001b[38;5;124m\"\u001b[39m] \u001b[38;5;241m=\u001b[39m \u001b[38;5;241m2017\u001b[39m \u001b[38;5;241m-\u001b[39m df\u001b[38;5;241m.\u001b[39myearbuilt\n",
      "File \u001b[0;32m/usr/local/anaconda3/lib/python3.9/site-packages/pandas/core/generic.py:1527\u001b[0m, in \u001b[0;36mNDFrame.__nonzero__\u001b[0;34m(self)\u001b[0m\n\u001b[1;32m   1525\u001b[0m \u001b[38;5;129m@final\u001b[39m\n\u001b[1;32m   1526\u001b[0m \u001b[38;5;28;01mdef\u001b[39;00m \u001b[38;5;21m__nonzero__\u001b[39m(\u001b[38;5;28mself\u001b[39m):\n\u001b[0;32m-> 1527\u001b[0m     \u001b[38;5;28;01mraise\u001b[39;00m \u001b[38;5;167;01mValueError\u001b[39;00m(\n\u001b[1;32m   1528\u001b[0m         \u001b[38;5;124mf\u001b[39m\u001b[38;5;124m\"\u001b[39m\u001b[38;5;124mThe truth value of a \u001b[39m\u001b[38;5;132;01m{\u001b[39;00m\u001b[38;5;28mtype\u001b[39m(\u001b[38;5;28mself\u001b[39m)\u001b[38;5;241m.\u001b[39m\u001b[38;5;18m__name__\u001b[39m\u001b[38;5;132;01m}\u001b[39;00m\u001b[38;5;124m is ambiguous. \u001b[39m\u001b[38;5;124m\"\u001b[39m\n\u001b[1;32m   1529\u001b[0m         \u001b[38;5;124m\"\u001b[39m\u001b[38;5;124mUse a.empty, a.bool(), a.item(), a.any() or a.all().\u001b[39m\u001b[38;5;124m\"\u001b[39m\n\u001b[1;32m   1530\u001b[0m     )\n",
      "\u001b[0;31mValueError\u001b[0m: The truth value of a Series is ambiguous. Use a.empty, a.bool(), a.item(), a.any() or a.all()."
     ]
    }
   ],
   "source": [
    "clean_zillow = w.clean_zillow(zillow)"
   ]
  },
  {
   "cell_type": "code",
   "execution_count": null,
   "id": "a83a5293",
   "metadata": {},
   "outputs": [],
   "source": [
    "1-clean_zillow.shape[0]/zillow.shape[0]"
   ]
  },
  {
   "cell_type": "code",
   "execution_count": 19,
   "id": "90d1e276",
   "metadata": {},
   "outputs": [],
   "source": [
    "no_year = clean_zillow[clean_zillow.yearbuilt.isnull()]"
   ]
  },
  {
   "cell_type": "code",
   "execution_count": 26,
   "id": "bb35ae0c",
   "metadata": {},
   "outputs": [
    {
     "data": {
      "text/plain": [
       "(1954.0, 1957.2300408356514)"
      ]
     },
     "execution_count": 26,
     "metadata": {},
     "output_type": "execute_result"
    }
   ],
   "source": [
    "clean_zillow[clean_zillow.county=='LA'].yearbuilt.median(), clean_zillow[clean_zillow.county=='LA'].yearbuilt.mean()"
   ]
  },
  {
   "cell_type": "code",
   "execution_count": 25,
   "id": "d7d485c5",
   "metadata": {},
   "outputs": [
    {
     "data": {
      "text/plain": [
       "(1973.0, 1974.348741288579)"
      ]
     },
     "execution_count": 25,
     "metadata": {},
     "output_type": "execute_result"
    }
   ],
   "source": [
    "clean_zillow[clean_zillow.county=='Orange'].yearbuilt.median(), clean_zillow[clean_zillow.county=='Orange'].yearbuilt.mean()"
   ]
  },
  {
   "cell_type": "code",
   "execution_count": 27,
   "id": "d874a4bd",
   "metadata": {},
   "outputs": [
    {
     "data": {
      "text/plain": [
       "(1976.0, 1976.1982064842493)"
      ]
     },
     "execution_count": 27,
     "metadata": {},
     "output_type": "execute_result"
    }
   ],
   "source": [
    "clean_zillow[clean_zillow.county=='Ventura'].yearbuilt.median(), clean_zillow[clean_zillow.county=='Ventura'].yearbuilt.mean()"
   ]
  },
  {
   "cell_type": "code",
   "execution_count": 30,
   "id": "c720c143",
   "metadata": {},
   "outputs": [],
   "source": [
    "imputer = SimpleImputer(strategy='median')\n",
    "\n",
    "imputer = imputer.fit(zillow[['yearbuilt']])\n",
    "\n",
    "zillow[['yearbuilt']] = imputer.transform(zillow[['yearbuilt']])\n"
   ]
  },
  {
   "cell_type": "code",
   "execution_count": 31,
   "id": "3d285158",
   "metadata": {},
   "outputs": [
    {
     "data": {
      "text/plain": [
       "0"
      ]
     },
     "execution_count": 31,
     "metadata": {},
     "output_type": "execute_result"
    }
   ],
   "source": [
    "zillow.yearbuilt.isnull().sum()"
   ]
  },
  {
   "cell_type": "code",
   "execution_count": null,
   "id": "dd2e3214",
   "metadata": {},
   "outputs": [],
   "source": [
    "zillow.yearbuilt.replace({np.NAN:1961})"
   ]
  }
 ],
 "metadata": {
  "kernelspec": {
   "display_name": "Python 3 (ipykernel)",
   "language": "python",
   "name": "python3"
  },
  "language_info": {
   "codemirror_mode": {
    "name": "ipython",
    "version": 3
   },
   "file_extension": ".py",
   "mimetype": "text/x-python",
   "name": "python",
   "nbconvert_exporter": "python",
   "pygments_lexer": "ipython3",
   "version": "3.9.12"
  }
 },
 "nbformat": 4,
 "nbformat_minor": 5
}
